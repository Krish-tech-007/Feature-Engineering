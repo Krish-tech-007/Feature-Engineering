{
 "cells": [
  {
   "cell_type": "markdown",
   "id": "1e77fb3d",
   "metadata": {},
   "source": [
    "### Missing Values"
   ]
  },
  {
   "cell_type": "markdown",
   "id": "169bcfef",
   "metadata": {},
   "source": [
    "Missing values occur in dataset when some of the information is not stored for a variable. There are 3 mechanisms."
   ]
  },
  {
   "cell_type": "markdown",
   "id": "34132906",
   "metadata": {},
   "source": [
    "#### 1. Missing Completely at Random, MCAR"
   ]
  },
  {
   "cell_type": "markdown",
   "id": "a4731b6d",
   "metadata": {},
   "source": [
    "Missing completely at random (MCAR) is a type of missing data mechanism in which the probability of a value being missing is unrelated to both the observed data and the missing data. In other words, if the data is MCAR, the missing values are randomly distributed throughout the dataset, and there is no systematic reason why they are missing. "
   ]
  },
  {
   "cell_type": "markdown",
   "id": "851167c3",
   "metadata": {},
   "source": [
    "For example, in a survey about the prevalence of a certain disease, the missing data might be MCAR if the survey participants with missing values for certain questions were randomly selected and their missing responses are not related their disease status or any other variables measured in their survey."
   ]
  },
  {
   "cell_type": "markdown",
   "id": "bc8b0517",
   "metadata": {},
   "source": [
    "#### 2. Missing at Random, MAR"
   ]
  },
  {
   "cell_type": "markdown",
   "id": "7c300776",
   "metadata": {},
   "source": [
    "Missing at Random (MAR) is a type of missing data mechanism in which the probability of a value being missing depends only on the observed data, but not on the missing data itself. In other words, if the data is MAR, the missing values are systematically related to the observed data, but not to the missing data. \n",
    "\n",
    "Examples include:\n",
    "\n",
    "Income data: Suppose we are collecting income data from a group of people, but some participants choose not to report their income. If the decision to report or not report income is related to participant's age or gender, but not to their income level, then the data is missing at random.\n",
    "\n",
    "Medical data: Suppose you are collecting medical data on patients, including their blood pressure, but some patients do not report their blood pressure. If the patients who do not report their blood pressure are more likely to be younger or have healthier lifestyles, but the missing data is not related to their actual blood pressure values, then the data is missing at random."
   ]
  },
  {
   "cell_type": "markdown",
   "id": "18a10247",
   "metadata": {},
   "source": [
    "#### 3. Missing Data not at random (MDNAR)"
   ]
  },
  {
   "cell_type": "markdown",
   "id": "38dd7792",
   "metadata": {},
   "source": [
    "It is a type of missing data mechanism where the probability of missing values depend on the value of missing data itself. In other words, if the data is MNAR, the fact that it is missing is not random and is dependent on unobserved or unmeasured factors that are associated with the missing values.\n",
    "\n",
    "For example, suppose you are collecting data on the income and job satisfaction of employees in a company. If employees who are less satisfied with their jobs are more likely refuse to report their income, then the data is not missing at random. In this case, the fact that it is missing is dependent on job satisfcation, which is not directly observed or measured."
   ]
  },
  {
   "cell_type": "markdown",
   "id": "53b1dd07",
   "metadata": {},
   "source": []
  }
 ],
 "metadata": {
  "kernelspec": {
   "display_name": "Python 3",
   "language": "python",
   "name": "python3"
  },
  "language_info": {
   "codemirror_mode": {
    "name": "ipython",
    "version": 3
   },
   "file_extension": ".py",
   "mimetype": "text/x-python",
   "name": "python",
   "nbconvert_exporter": "python",
   "pygments_lexer": "ipython3",
   "version": "3.10.0"
  }
 },
 "nbformat": 4,
 "nbformat_minor": 5
}
